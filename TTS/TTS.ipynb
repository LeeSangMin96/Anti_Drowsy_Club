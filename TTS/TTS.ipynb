{
  "nbformat": 4,
  "nbformat_minor": 0,
  "metadata": {
    "colab": {
      "name": "TTS",
      "provenance": [],
      "collapsed_sections": []
    },
    "kernelspec": {
      "name": "python3",
      "display_name": "Python 3"
    }
  },
  "cells": [
    {
      "cell_type": "code",
      "metadata": {
        "id": "59GDZA_dRjfK",
        "colab_type": "code",
        "colab": {
          "base_uri": "https://localhost:8080/",
          "height": 105
        },
        "outputId": "27fcbb2c-1482-4d26-e063-6da7ca767e5e"
      },
      "source": [
        "!pip install requests"
      ],
      "execution_count": 1,
      "outputs": [
        {
          "output_type": "stream",
          "text": [
            "Requirement already satisfied: requests in /usr/local/lib/python3.6/dist-packages (2.23.0)\n",
            "Requirement already satisfied: certifi>=2017.4.17 in /usr/local/lib/python3.6/dist-packages (from requests) (2020.6.20)\n",
            "Requirement already satisfied: urllib3!=1.25.0,!=1.25.1,<1.26,>=1.21.1 in /usr/local/lib/python3.6/dist-packages (from requests) (1.24.3)\n",
            "Requirement already satisfied: idna<3,>=2.5 in /usr/local/lib/python3.6/dist-packages (from requests) (2.10)\n",
            "Requirement already satisfied: chardet<4,>=3.0.2 in /usr/local/lib/python3.6/dist-packages (from requests) (3.0.4)\n"
          ],
          "name": "stdout"
        }
      ]
    },
    {
      "cell_type": "code",
      "metadata": {
        "id": "ONpNfYSsjJDf",
        "colab_type": "code",
        "colab": {
          "base_uri": "https://localhost:8080/",
          "height": 105
        },
        "outputId": "0c7e0b68-1004-4728-9ea8-ea6c815caedd"
      },
      "source": [
        "import xml.etree.ElementTree as ET \n",
        "speak = ET.Element(\"speak\") \n",
        "voice1 = ET.Element(\"voice\", name=\"WOMAN_READ_CALM\") \n",
        "voice1.text = input()\n",
        "speak.append(voice1) \n",
        "voice2 = ET.Element(\"voice\", name=\"WOMAN_READ_CALM\") \n",
        "voice2.text = \"만나서 반가워요\" \n",
        "speak.append(voice2) \n",
        "def indent(elem, level=0): \n",
        "    i = \"\\n\" + level*\" \" \n",
        "    if len(elem): \n",
        "        if not elem.text or not elem.text.strip(): \n",
        "            elem.text = i + \" \" \n",
        "        if not elem.tail or not elem.tail.strip(): \n",
        "            elem.tail = i \n",
        "        for elem in elem: \n",
        "            indent(elem, level+1) \n",
        "        if not elem.tail or not elem.tail.strip(): \n",
        "            elem.tail = i \n",
        "    else: \n",
        "        if level and (not elem.tail or not elem.tail.strip()): \n",
        "            elem.tail = i \n",
        "indent(speak) \n",
        "ET.dump(speak)\n",
        "\n",
        "ET.ElementTree(speak).write(\"data.xml\", encoding=\"utf-8\", xml_declaration=True)"
      ],
      "execution_count": 37,
      "outputs": [
        {
          "output_type": "stream",
          "text": [
            "안녕하세요\n",
            "<speak>\n",
            " <voice name=\"WOMAN_READ_CALM\">안녕하세요</voice>\n",
            " <voice name=\"WOMAN_READ_CALM\">만나서 반가워요</voice>\n",
            "</speak>\n"
          ],
          "name": "stdout"
        }
      ]
    },
    {
      "cell_type": "code",
      "metadata": {
        "id": "S4uvGx1udWKS",
        "colab_type": "code",
        "colab": {
          "base_uri": "https://localhost:8080/",
          "height": 34
        },
        "outputId": "17dded72-5cb8-4969-ddb8-ceeb7d8d3de1"
      },
      "source": [
        "import requests\n",
        "\n",
        "kakao_tts_url = \"https://kakaoi-newtone-openapi.kakao.com/v1/synthesize\"\n",
        "rest_api_key = \"0238684eeaa7b043ef3d0e011ad3caab\"\n",
        "\n",
        "headers = {\n",
        "    \"Content-Type\": \"application/xml\",\n",
        "    \"Authorization\": \"KakaoAK \" + rest_api_key,\n",
        "}\n",
        "with open('data.xml', 'rb') as fp:\n",
        "    data = fp.read()\n",
        "res = requests.post(kakao_tts_url, headers=headers, data = data)\n",
        "rescode = int(res.status_code)\n",
        "if(rescode==200):\n",
        "    print(\"TTS mp3 저장\")\n",
        "    response_body = res.content\n",
        "    with open('1111.mp3', 'wb') as f:\n",
        "        f.write(response_body)\n",
        "else:\n",
        "    print(rescode)"
      ],
      "execution_count": 38,
      "outputs": [
        {
          "output_type": "stream",
          "text": [
            "TTS mp3 저장\n"
          ],
          "name": "stdout"
        }
      ]
    }
  ]
}